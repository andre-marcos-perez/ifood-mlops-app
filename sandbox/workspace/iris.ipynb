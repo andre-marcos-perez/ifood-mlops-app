{
 "cells": [
  {
   "cell_type": "markdown",
   "id": "64ad9778",
   "metadata": {},
   "source": [
    "# MLOps Example with Iris Dataset"
   ]
  },
  {
   "cell_type": "markdown",
   "id": "c28e4336",
   "metadata": {},
   "source": [
    "The **api.ifood.mlops** package is the Python SDK to interact with the apps of the ML platform: sandbox, database, pipeline and serving. It allows data scientists to develop and deploy ML models through experiments."
   ]
  },
  {
   "cell_type": "markdown",
   "id": "0ce5f357",
   "metadata": {},
   "source": [
    "## 1. Setup"
   ]
  },
  {
   "cell_type": "markdown",
   "id": "f6435709",
   "metadata": {},
   "source": [
    "Let's start by importing packages, including the **api.ifood.mlops**."
   ]
  },
  {
   "cell_type": "code",
   "execution_count": null,
   "id": "8fe966b2",
   "metadata": {},
   "outputs": [],
   "source": [
    "import json\n",
    "\n",
    "import requests\n",
    "import pandas as pd\n",
    "from sklearn import *\n",
    "\n",
    "from api.ifood import mlops"
   ]
  },
  {
   "cell_type": "markdown",
   "id": "653b0a95",
   "metadata": {},
   "source": [
    "The first thing to do is to create a project! Let's create one called **iris** using the *create_project* method."
   ]
  },
  {
   "cell_type": "code",
   "execution_count": null,
   "id": "a4bb9773",
   "metadata": {},
   "outputs": [],
   "source": [
    "project_id = mlops.create_project(name='iris')\n",
    "\n",
    "print(project_id)"
   ]
  },
  {
   "cell_type": "markdown",
   "id": "e0cff57e",
   "metadata": {},
   "source": [
    "You can easily get all projects using the *get_projects* method."
   ]
  },
  {
   "cell_type": "code",
   "execution_count": null,
   "id": "130ccfba",
   "metadata": {},
   "outputs": [],
   "source": [
    "projects = mlops.get_projects()\n",
    "\n",
    "for project in projects:\n",
    "    for k, v in project.items():\n",
    "        print(f\"{k}: {v}\")\n",
    "    print(\"\")"
   ]
  },
  {
   "cell_type": "markdown",
   "id": "c79a9686",
   "metadata": {},
   "source": [
    "## 2. Experiment"
   ]
  },
  {
   "cell_type": "markdown",
   "id": "40502837",
   "metadata": {},
   "source": [
    "Models can be trained and tested through experiments. Let's load the **iris** dataset from the simulated feature store and tweek a little bit with its data."
   ]
  },
  {
   "cell_type": "code",
   "execution_count": null,
   "id": "4f0e97ff",
   "metadata": {},
   "outputs": [],
   "source": [
    "dataset = pd.read_csv('./feature-store/iris.csv')"
   ]
  },
  {
   "cell_type": "code",
   "execution_count": null,
   "id": "8cf23ee7",
   "metadata": {},
   "outputs": [],
   "source": [
    "dataset[\"target\"] = dataset[\"class\"].astype(\"category\").cat.codes\n",
    "dataset.drop(\"class\", axis=1, inplace=True)\n",
    "dataset.head()"
   ]
  },
  {
   "cell_type": "markdown",
   "id": "273f60fc",
   "metadata": {},
   "source": [
    "Let's then divide the dataset into train and test datasets."
   ]
  },
  {
   "cell_type": "code",
   "execution_count": null,
   "id": "5baafa94",
   "metadata": {},
   "outputs": [],
   "source": [
    "train, test = model_selection.train_test_split(dataset, stratify=dataset[\"target\"], random_state=42)"
   ]
  },
  {
   "cell_type": "markdown",
   "id": "741341d2",
   "metadata": {},
   "source": [
    "Now its time to create our firsts experiments using the *run_experiment* method. The method requires the following:\n",
    "\n",
    " - **project_id**: the id of the project we have just created;\n",
    " - **engine**: the Python ML engine to be used to develop the model (sklearn is the only available currently);\n",
    " - **model**: the engine model object initialized with its hyper params;\n",
    " - **metrics**: a dict with engine metrics functions;\n",
    " - **target_col**: the target column on the dataset;\n",
    " - **train_data**: the train dataset;\n",
    " - **test_data**: the test dataset."
   ]
  },
  {
   "cell_type": "markdown",
   "id": "ff40a9a9",
   "metadata": {},
   "source": [
    "We will create two experiments to predict the iris class: **Logistic Regression** model and **Perceptron** model, both will be assessed by their classification accuracy."
   ]
  },
  {
   "cell_type": "code",
   "execution_count": null,
   "id": "79bd29f0",
   "metadata": {},
   "outputs": [],
   "source": [
    "lr_experiment_id = mlops.run_experiment(\n",
    "    project_id=project_id,\n",
    "    engine='sklearn',\n",
    "    model=linear_model.LogisticRegression(),\n",
    "    metrics=dict(accuracy=metrics.accuracy_score),\n",
    "    target_col='target',\n",
    "    train_data=train,\n",
    "    test_data=test\n",
    ")\n",
    "\n",
    "print(lr_experiment_id)"
   ]
  },
  {
   "cell_type": "code",
   "execution_count": null,
   "id": "52bc59a4",
   "metadata": {},
   "outputs": [],
   "source": [
    "nn_experiment_id = mlops.run_experiment(\n",
    "    project_id=project_id,\n",
    "    engine='sklearn',\n",
    "    model=linear_model.Perceptron(),\n",
    "    metrics=dict(accuracy=metrics.accuracy_score),\n",
    "    target_col='target',\n",
    "    train_data=train,\n",
    "    test_data=test\n",
    ")\n",
    "\n",
    "print(nn_experiment_id)"
   ]
  },
  {
   "cell_type": "markdown",
   "id": "5fb8eceb",
   "metadata": {},
   "source": [
    "After running the *run_experiment* method, the **api.ifood.mlops** package will submit the request to the pipeline app. You can check out the experiment progress directly on the pipeline [dashboard](http://localhost:8080/) or using the *get_experiment* or *get_experiments* method. Run the cell bellow multiple times until both experiments status are equal to 'finished' then continue."
   ]
  },
  {
   "cell_type": "code",
   "execution_count": null,
   "id": "3a6dcdf7",
   "metadata": {},
   "outputs": [],
   "source": [
    "experiments = mlops.get_experiments()\n",
    "\n",
    "for experiment in experiments:\n",
    "    for k, v in experiment.items():\n",
    "        print(f\"{k}: {v}\")\n",
    "    print(\"\")"
   ]
  },
  {
   "cell_type": "markdown",
   "id": "87496060",
   "metadata": {},
   "source": [
    "Let's compare them both:"
   ]
  },
  {
   "cell_type": "code",
   "execution_count": null,
   "id": "9fc8c84f",
   "metadata": {},
   "outputs": [],
   "source": [
    "lr_experiment = mlops.get_experiment(experiment_id=lr_experiment_id)\n",
    "print(f\"LR status: {lr_experiment['status']}\")\n",
    "print(f\"LR metric: {lr_experiment['metrics']}\")"
   ]
  },
  {
   "cell_type": "code",
   "execution_count": null,
   "id": "2618499d",
   "metadata": {},
   "outputs": [],
   "source": [
    "nn_experiment = mlops.get_experiment(experiment_id=nn_experiment_id)\n",
    "print(f\"NN status: {nn_experiment['status']}\")\n",
    "print(f\"NN metric: {nn_experiment['metrics']}\")"
   ]
  },
  {
   "cell_type": "markdown",
   "id": "ae46046f",
   "metadata": {
    "jupyter": {
     "outputs_hidden": false
    },
    "pycharm": {
     "name": "#%%\n"
    }
   },
   "source": [
    "Since the **Logistic Regression** accuracy is higher, lets deploy it!"
   ]
  },
  {
   "cell_type": "markdown",
   "id": "3883130a",
   "metadata": {},
   "source": [
    "## 3. Deploy"
   ]
  },
  {
   "cell_type": "markdown",
   "id": "2ae94030",
   "metadata": {},
   "source": [
    "To the deploy an experiment, you can use the *deploy_experiment* method."
   ]
  },
  {
   "cell_type": "code",
   "execution_count": null,
   "id": "76fc0c0a",
   "metadata": {},
   "outputs": [],
   "source": [
    "mlops.deploy_experiment(experiment_id=lr_experiment_id)"
   ]
  },
  {
   "cell_type": "markdown",
   "id": "a516f753",
   "metadata": {},
   "source": [
    "After running the *deploy_experiment* method, the **api.ifood.mlops** package will submit the request to the pipeline app. You can check out the deployment progress directly on the pipeline [dashboard](http://localhost:8080/) or using the *get_experiment* or *get_experiments* method. Run the cell bellow multiple times until both experiments status are equal to 'deployed' then continue."
   ]
  },
  {
   "cell_type": "code",
   "execution_count": null,
   "id": "4d2d860b",
   "metadata": {},
   "outputs": [],
   "source": [
    "lr_experiment = mlops.get_experiment(experiment_id=lr_experiment_id)\n",
    "print(f\"LR status: {lr_experiment['status']}\")"
   ]
  },
  {
   "cell_type": "markdown",
   "id": "72ee783a",
   "metadata": {},
   "source": [
    "You can check the deployed experiments with the *get_deployments* method."
   ]
  },
  {
   "cell_type": "code",
   "execution_count": null,
   "id": "5d8ae3a0",
   "metadata": {},
   "outputs": [],
   "source": [
    "deployments = mlops.get_deployments()\n",
    "\n",
    "for deployment in deployments:\n",
    "    for k, v in deployment.items():\n",
    "        print(f\"{k}: {v}\")\n",
    "    print(\"\")"
   ]
  },
  {
   "cell_type": "markdown",
   "id": "8e07df46",
   "metadata": {},
   "source": [
    "## 4. Predict"
   ]
  },
  {
   "cell_type": "markdown",
   "id": "57bff410",
   "metadata": {},
   "source": [
    "Let's predict some cases! You can check the serving API docs [here](http://localhost:8000/docs)."
   ]
  },
  {
   "cell_type": "markdown",
   "id": "899b7077",
   "metadata": {},
   "source": [
    " - Iris-setosa:"
   ]
  },
  {
   "cell_type": "code",
   "execution_count": null,
   "id": "b8bc0048",
   "metadata": {},
   "outputs": [],
   "source": [
    "data = dict(model=\"iris\", features={\"sepal-length\": 5.7, \"sepal-width\": 3.8, \"petal-length\": 1.7, \"petal-width\": 0.3})"
   ]
  },
  {
   "cell_type": "code",
   "execution_count": null,
   "id": "8790b5e3",
   "metadata": {},
   "outputs": [],
   "source": [
    "try:\n",
    "    response = requests.post(url='http://localhost:8000/predictions/', data=json.dumps(data), headers={'Content-Type': 'application/json', 'x-api-key': 'FfNxK6NF9L'})\n",
    "    response.raise_for_status()\n",
    "except Exception as exc:\n",
    "    raise exc\n",
    "else:\n",
    "    print(response.text) # expecting \"0\" for Iris-setosa"
   ]
  },
  {
   "cell_type": "markdown",
   "id": "9f8a8e05",
   "metadata": {},
   "source": [
    " - Iris-versicolor:"
   ]
  },
  {
   "cell_type": "code",
   "execution_count": null,
   "id": "63a27e0f",
   "metadata": {},
   "outputs": [],
   "source": [
    "data = dict(model=\"iris\", features={\"sepal-length\": 5.8, \"sepal-width\": 2.7, \"petal-length\": 4.1, \"petal-width\": 1.0})"
   ]
  },
  {
   "cell_type": "code",
   "execution_count": null,
   "id": "87894826",
   "metadata": {},
   "outputs": [],
   "source": [
    "try:\n",
    "    response = requests.post(url='http://localhost:8000/predictions/', data=json.dumps(data), headers={'Content-Type': 'application/json', 'x-api-key': 'FfNxK6NF9L'})\n",
    "    response.raise_for_status()\n",
    "except Exception as exc:\n",
    "    raise exc\n",
    "else:\n",
    "    print(response.text) # expecting \"1\" for Iris-versicolor"
   ]
  },
  {
   "cell_type": "markdown",
   "id": "00e27cad",
   "metadata": {},
   "source": [
    " - Iris-virginica:"
   ]
  },
  {
   "cell_type": "code",
   "execution_count": null,
   "id": "a25bf831",
   "metadata": {},
   "outputs": [],
   "source": [
    "data = dict(model=\"iris\", features={\"sepal-length\": 7.7, \"sepal-width\": 3.0, \"petal-length\": 6.1, \"petal-width\": 2.3})"
   ]
  },
  {
   "cell_type": "code",
   "execution_count": null,
   "id": "946b5ca1",
   "metadata": {},
   "outputs": [],
   "source": [
    "try:\n",
    "    response = requests.post(url='http://localhost:8000/predictions/', data=json.dumps(data), headers={'Content-Type': 'application/json', 'x-api-key': 'FfNxK6NF9L'})\n",
    "    response.raise_for_status()\n",
    "except Exception as exc:\n",
    "    raise exc\n",
    "else:\n",
    "    print(response.text) # expecting \"2\" for Iris-virginica"
   ]
  },
  {
   "cell_type": "markdown",
   "id": "66d78abe",
   "metadata": {},
   "source": [
    "You can get all the predictions for a project with the *get_predictions* method."
   ]
  },
  {
   "cell_type": "code",
   "execution_count": null,
   "id": "8748f24c",
   "metadata": {},
   "outputs": [],
   "source": [
    "predictions = mlops.get_predictions(project_id=project_id)\n",
    "\n",
    "for prediction in predictions:\n",
    "    for k, v in prediction.decode().items():\n",
    "        print(f\"{k}: {v}\")\n",
    "    print(\"\")"
   ]
  },
  {
   "cell_type": "markdown",
   "id": "6e18a32c",
   "metadata": {},
   "source": [
    "## 5. Deploy a new model"
   ]
  },
  {
   "cell_type": "markdown",
   "id": "fcb798f5",
   "metadata": {},
   "source": [
    "The **Logistic Regression model** is outdated, let's deploy a **Support Vector Machine** model."
   ]
  },
  {
   "cell_type": "code",
   "execution_count": null,
   "id": "86be9dc1",
   "metadata": {},
   "outputs": [],
   "source": [
    "svm_experiment_id = mlops.run_experiment(\n",
    "    project_id=project_id,\n",
    "    engine='sklearn',\n",
    "    model=svm.SVC(),\n",
    "    metrics=dict(accuracy=metrics.accuracy_score),\n",
    "    target_col='target',\n",
    "    train_data=train,\n",
    "    test_data=test\n",
    ")\n",
    "\n",
    "print(svm_experiment_id)"
   ]
  },
  {
   "cell_type": "markdown",
   "id": "f4072946",
   "metadata": {},
   "source": [
    "Let's wait for the model status to be equals to 'finished'."
   ]
  },
  {
   "cell_type": "code",
   "execution_count": null,
   "id": "67bd1d4d",
   "metadata": {},
   "outputs": [],
   "source": [
    "experiment = mlops.get_experiment(experiment_id=svm_experiment_id)\n",
    "\n",
    "for k, v in experiment.items():\n",
    "    print(f\"{k}: {v}\")"
   ]
  },
  {
   "cell_type": "markdown",
   "id": "8f717940",
   "metadata": {},
   "source": [
    "Then deploy the model."
   ]
  },
  {
   "cell_type": "code",
   "execution_count": null,
   "id": "f39de25a",
   "metadata": {},
   "outputs": [],
   "source": [
    "mlops.deploy_experiment(experiment_id=svm_experiment_id)"
   ]
  },
  {
   "cell_type": "markdown",
   "id": "42406366",
   "metadata": {},
   "source": [
    "Then predict data."
   ]
  },
  {
   "cell_type": "code",
   "execution_count": null,
   "id": "3a60ab2a",
   "metadata": {},
   "outputs": [],
   "source": [
    "data = dict(model=\"iris\", features={\"sepal-length\": 5.7, \"sepal-width\": 3.8, \"petal-length\": 1.7, \"petal-width\": 0.3})"
   ]
  },
  {
   "cell_type": "code",
   "execution_count": null,
   "id": "98845867",
   "metadata": {},
   "outputs": [],
   "source": [
    "try:\n",
    "    response = requests.post(url='http://localhost:8000/predictions/', data=json.dumps(data), headers={'Content-Type': 'application/json', 'x-api-key': 'FfNxK6NF9L'})\n",
    "    response.raise_for_status()\n",
    "except Exception as exc:\n",
    "    raise exc\n",
    "else:\n",
    "    print(response.text) # expecting \"0\" for Iris-setosa"
   ]
  }
 ],
 "metadata": {
  "kernelspec": {
   "display_name": "Python 3",
   "language": "python",
   "name": "python3"
  },
  "language_info": {
   "codemirror_mode": {
    "name": "ipython",
    "version": 3
   },
   "file_extension": ".py",
   "mimetype": "text/x-python",
   "name": "python",
   "nbconvert_exporter": "python",
   "pygments_lexer": "ipython3",
   "version": "3.7.3"
  }
 },
 "nbformat": 4,
 "nbformat_minor": 5
}