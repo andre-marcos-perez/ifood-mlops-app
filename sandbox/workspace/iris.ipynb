{
 "cells": [
  {
   "cell_type": "markdown",
   "id": "1018a04b",
   "metadata": {},
   "source": [
    "# MLOps Example"
   ]
  },
  {
   "cell_type": "markdown",
   "id": "cacc3b37",
   "metadata": {},
   "source": [
    "Lorem"
   ]
  },
  {
   "cell_type": "markdown",
   "id": "cd982613",
   "metadata": {},
   "source": [
    "## 1. Setup"
   ]
  },
  {
   "cell_type": "markdown",
   "id": "c6be5f88",
   "metadata": {},
   "source": [
    "Lorem"
   ]
  },
  {
   "cell_type": "code",
   "execution_count": null,
   "id": "839e9244",
   "metadata": {},
   "outputs": [],
   "source": [
    "import json\n",
    "\n",
    "import requests\n",
    "import pandas as pd\n",
    "from sklearn import *\n",
    "\n",
    "from api.ifood import mlops"
   ]
  },
  {
   "cell_type": "code",
   "execution_count": null,
   "id": "f22ba9fa",
   "metadata": {},
   "outputs": [],
   "source": [
    "project_id = mlops.create_project(name='iris')\n",
    "\n",
    "print(project_id)"
   ]
  },
  {
   "cell_type": "code",
   "execution_count": null,
   "id": "92a90246",
   "metadata": {},
   "outputs": [],
   "source": [
    "projects = mlops.get_projects()\n",
    "\n",
    "for project in projects:\n",
    "    for k, v in project.items():\n",
    "        print(f\"{k}: {v}\")\n",
    "    print(\"\")"
   ]
  },
  {
   "cell_type": "markdown",
   "id": "763bcc13",
   "metadata": {},
   "source": [
    "## 2. Experiment"
   ]
  },
  {
   "cell_type": "markdown",
   "id": "ca97673b",
   "metadata": {},
   "source": [
    "Lorem"
   ]
  },
  {
   "cell_type": "code",
   "execution_count": null,
   "id": "862e6d45",
   "metadata": {},
   "outputs": [],
   "source": [
    "dataset = pd.read_csv('./feature-store/iris.csv')"
   ]
  },
  {
   "cell_type": "code",
   "execution_count": null,
   "id": "9e38886f",
   "metadata": {},
   "outputs": [],
   "source": [
    "dataset[\"target\"] = dataset[\"class\"].astype(\"category\").cat.codes\n",
    "dataset.drop(\"class\", axis=1, inplace=True)\n",
    "dataset.head()"
   ]
  },
  {
   "cell_type": "code",
   "execution_count": null,
   "id": "03735f4f",
   "metadata": {},
   "outputs": [],
   "source": [
    "train, test = model_selection.train_test_split(dataset, stratify=dataset[\"target\"], random_state=42)"
   ]
  },
  {
   "cell_type": "code",
   "execution_count": null,
   "id": "98ea8c58",
   "metadata": {},
   "outputs": [],
   "source": [
    "experiment_id = mlops.run_experiment(\n",
    "    project_id=project_id,\n",
    "    engine='sklearn',\n",
    "    model=linear_model.LogisticRegression(max_iter=1000),\n",
    "    metrics=dict(accuracy=metrics.accuracy_score),\n",
    "    target_col='target',\n",
    "    train_data=train,\n",
    "    test_data=test\n",
    ")\n",
    "\n",
    "print(experiment_id)"
   ]
  },
  {
   "cell_type": "code",
   "execution_count": null,
   "id": "40375df1",
   "metadata": {},
   "outputs": [],
   "source": [
    "experiment = mlops.get_experiment(experiment_id=experiment_id)\n",
    "\n",
    "for k, v in experiment.items():\n",
    "    print(f\"{k}: {v}\")\n",
    "print(experiment['status'])"
   ]
  },
  {
   "cell_type": "code",
   "execution_count": null,
   "id": "99e49e37",
   "metadata": {},
   "outputs": [],
   "source": [
    "experiment = mlops.get_experiment(experiment_id=experiment_id)\n",
    "\n",
    "print(f\"status: {experiment['status']}\")"
   ]
  },
  {
   "cell_type": "code",
   "execution_count": null,
   "id": "b718b9fb",
   "metadata": {},
   "outputs": [],
   "source": [
    "experiments = mlops.get_experiments()\n",
    "\n",
    "for experiment in experiments:\n",
    "    for k, v in experiment.items():\n",
    "        print(f\"{k}: {v}\")\n",
    "    print(\"\")"
   ]
  },
  {
   "cell_type": "code",
   "execution_count": null,
   "id": "18a3ad21",
   "metadata": {
    "collapsed": false,
    "jupyter": {
     "outputs_hidden": false
    },
    "pycharm": {
     "name": "#%%\n"
    }
   },
   "outputs": [],
   "source": [
    "experiment = mlops.get_experiment(experiment_id=experiment_id)\n",
    "\n",
    "print(f\"metrics: {experiment['metrics']}\")"
   ]
  },
  {
   "cell_type": "markdown",
   "id": "b1a7cf70",
   "metadata": {},
   "source": [
    "## 3. Deploy"
   ]
  },
  {
   "cell_type": "markdown",
   "id": "9e77689a",
   "metadata": {},
   "source": [
    "Lorem"
   ]
  },
  {
   "cell_type": "code",
   "execution_count": null,
   "id": "0f24b083",
   "metadata": {},
   "outputs": [],
   "source": [
    "mlops.deploy_experiment(experiment_id=experiment_id)"
   ]
  },
  {
   "cell_type": "code",
   "execution_count": null,
   "id": "4303c665",
   "metadata": {},
   "outputs": [],
   "source": [
    "experiment = mlops.get_experiment(experiment_id=experiment_id)\n",
    "\n",
    "print(f\"status: {experiment['status']}\")"
   ]
  },
  {
   "cell_type": "code",
   "execution_count": null,
   "id": "c282f9f2",
   "metadata": {},
   "outputs": [],
   "source": [
    "deployments = mlops.get_deployments()\n",
    "\n",
    "for deployment in deployments:\n",
    "    for k, v in deployment.items():\n",
    "        print(f\"{k}: {v}\")\n",
    "    print(\"\")"
   ]
  },
  {
   "cell_type": "markdown",
   "id": "ace000b2",
   "metadata": {},
   "source": [
    "## 4. Predict"
   ]
  },
  {
   "cell_type": "markdown",
   "id": "63bc807c",
   "metadata": {},
   "source": [
    "Lorem"
   ]
  },
  {
   "cell_type": "code",
   "execution_count": null,
   "id": "6c10cf64",
   "metadata": {},
   "outputs": [],
   "source": [
    "data = dict(model=\"iris\", features={\"sepal-length\":5.7, \"sepal-width\": 3.8, \"petal-length\": 1.7, \"petal-width\": 0.3})"
   ]
  },
  {
   "cell_type": "code",
   "execution_count": null,
   "id": "eee5306d",
   "metadata": {},
   "outputs": [],
   "source": [
    "try:\n",
    "    response = requests.post(url='http://localhost:8000/predictions/', data=json.dumps(data), headers={'Content-Type': 'application/json'})\n",
    "    response.raise_for_status()\n",
    "except Exception as exc:\n",
    "    raise exc\n",
    "else:\n",
    "    print(response.text) # expecting \"0\" for Iris-setosa"
   ]
  },
  {
   "cell_type": "code",
   "execution_count": null,
   "id": "b0e4eb2c",
   "metadata": {},
   "outputs": [],
   "source": [
    "data = dict(model=\"iris\", features={\"sepal-length\":5.8, \"sepal-width\": 2.7, \"petal-length\": 4.1, \"petal-width\": 1.0})"
   ]
  },
  {
   "cell_type": "code",
   "execution_count": null,
   "id": "935a93dd",
   "metadata": {},
   "outputs": [],
   "source": [
    "try:\n",
    "    response = requests.post(url='http://localhost:8000/predictions/', data=json.dumps(data), headers={'Content-Type': 'application/json'})\n",
    "    response.raise_for_status()\n",
    "except Exception as exc:\n",
    "    raise exc\n",
    "else:\n",
    "    print(response.text) # expecting \"1\" for Iris-versicolor"
   ]
  },
  {
   "cell_type": "code",
   "execution_count": null,
   "id": "cfb5b988",
   "metadata": {},
   "outputs": [],
   "source": [
    "data = dict(model=\"iris\", features={\"sepal-length\":7.7, \"sepal-width\": 3.0, \"petal-length\": 6.1, \"petal-width\": 2.3})"
   ]
  },
  {
   "cell_type": "code",
   "execution_count": null,
   "id": "3d458054",
   "metadata": {},
   "outputs": [],
   "source": [
    "try:\n",
    "    response = requests.post(url='http://localhost:8000/predictions/', data=json.dumps(data), headers={'Content-Type': 'application/json'})\n",
    "    response.raise_for_status()\n",
    "except Exception as exc:\n",
    "    raise exc\n",
    "else:\n",
    "    print(response.text) # expecting \"2\" for Iris-virginica"
   ]
  }
 ],
 "metadata": {
  "kernelspec": {
   "display_name": "Python 3",
   "language": "python",
   "name": "python3"
  },
  "language_info": {
   "codemirror_mode": {
    "name": "ipython",
    "version": 3
   },
   "file_extension": ".py",
   "mimetype": "text/x-python",
   "name": "python",
   "nbconvert_exporter": "python",
   "pygments_lexer": "ipython3",
   "version": "3.7.3"
  }
 },
 "nbformat": 4,
 "nbformat_minor": 5
}
