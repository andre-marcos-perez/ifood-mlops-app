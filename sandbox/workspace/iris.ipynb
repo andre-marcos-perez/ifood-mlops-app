{
 "cells": [
  {
   "cell_type": "markdown",
   "id": "886b3bb8",
   "metadata": {},
   "source": [
    "# MLOps Example with Iris Dataset"
   ]
  },
  {
   "cell_type": "markdown",
   "id": "82412ebd",
   "metadata": {},
   "source": [
    "The **api.ifood.mlops** package is the Python SDK to interact with the apps of the ML platform: sandbox, database, pipeline and serving. It allows data scientists to develop and deploy ML models through experiments."
   ]
  },
  {
   "cell_type": "markdown",
   "id": "36cb36c6",
   "metadata": {},
   "source": [
    "## 1. Setup"
   ]
  },
  {
   "cell_type": "markdown",
   "id": "63d558c9",
   "metadata": {},
   "source": [
    "Let's start by importing packages, including the **api.ifood.mlops**."
   ]
  },
  {
   "cell_type": "code",
   "execution_count": 1,
   "id": "a444063b",
   "metadata": {},
   "outputs": [],
   "source": [
    "import json\n",
    "\n",
    "import requests\n",
    "import pandas as pd\n",
    "from sklearn import *\n",
    "\n",
    "from api.ifood import mlops"
   ]
  },
  {
   "cell_type": "markdown",
   "id": "94b6f2c0",
   "metadata": {},
   "source": [
    "The first thing to do is to create a project! Let's create one called **iris** using the *create_project* method."
   ]
  },
  {
   "cell_type": "code",
   "execution_count": 2,
   "id": "72ec973d",
   "metadata": {},
   "outputs": [
    {
     "name": "stdout",
     "output_type": "stream",
     "text": [
      "1\n"
     ]
    }
   ],
   "source": [
    "project_id = mlops.create_project(name='iris')\n",
    "\n",
    "print(project_id)"
   ]
  },
  {
   "cell_type": "markdown",
   "id": "96424359",
   "metadata": {},
   "source": [
    "You can easily get all projects using the *get_projects* method."
   ]
  },
  {
   "cell_type": "code",
   "execution_count": 3,
   "id": "b6464ee4",
   "metadata": {},
   "outputs": [
    {
     "name": "stdout",
     "output_type": "stream",
     "text": [
      "id: 1\n",
      "name: iris\n",
      "created_at: 2021-04-27 22:19:43\n",
      "updated_at: 2021-04-27 22:19:43\n",
      "\n"
     ]
    }
   ],
   "source": [
    "projects = mlops.get_projects()\n",
    "\n",
    "for project in projects:\n",
    "    for k, v in project.items():\n",
    "        print(f\"{k}: {v}\")\n",
    "    print(\"\")"
   ]
  },
  {
   "cell_type": "markdown",
   "id": "9b87c998",
   "metadata": {},
   "source": [
    "## 2. Experiment"
   ]
  },
  {
   "cell_type": "markdown",
   "id": "6d12b181",
   "metadata": {},
   "source": [
    "Models can be trained and tested through experiments. Let's load the **iris** dataset from the simulated feature store and tweek a little bit with its data."
   ]
  },
  {
   "cell_type": "code",
   "execution_count": 4,
   "id": "d39b99c9",
   "metadata": {},
   "outputs": [],
   "source": [
    "dataset = pd.read_csv('./feature-store/iris.csv')"
   ]
  },
  {
   "cell_type": "code",
   "execution_count": 5,
   "id": "c42f6ce7",
   "metadata": {},
   "outputs": [
    {
     "data": {
      "text/html": [
       "<div>\n",
       "<style scoped>\n",
       "    .dataframe tbody tr th:only-of-type {\n",
       "        vertical-align: middle;\n",
       "    }\n",
       "\n",
       "    .dataframe tbody tr th {\n",
       "        vertical-align: top;\n",
       "    }\n",
       "\n",
       "    .dataframe thead th {\n",
       "        text-align: right;\n",
       "    }\n",
       "</style>\n",
       "<table border=\"1\" class=\"dataframe\">\n",
       "  <thead>\n",
       "    <tr style=\"text-align: right;\">\n",
       "      <th></th>\n",
       "      <th>sepal-length</th>\n",
       "      <th>sepal-width</th>\n",
       "      <th>petal-length</th>\n",
       "      <th>petal-width</th>\n",
       "      <th>target</th>\n",
       "    </tr>\n",
       "  </thead>\n",
       "  <tbody>\n",
       "    <tr>\n",
       "      <th>0</th>\n",
       "      <td>5.1</td>\n",
       "      <td>3.5</td>\n",
       "      <td>1.4</td>\n",
       "      <td>0.2</td>\n",
       "      <td>0</td>\n",
       "    </tr>\n",
       "    <tr>\n",
       "      <th>1</th>\n",
       "      <td>4.9</td>\n",
       "      <td>3.0</td>\n",
       "      <td>1.4</td>\n",
       "      <td>0.2</td>\n",
       "      <td>0</td>\n",
       "    </tr>\n",
       "    <tr>\n",
       "      <th>2</th>\n",
       "      <td>4.7</td>\n",
       "      <td>3.2</td>\n",
       "      <td>1.3</td>\n",
       "      <td>0.2</td>\n",
       "      <td>0</td>\n",
       "    </tr>\n",
       "    <tr>\n",
       "      <th>3</th>\n",
       "      <td>4.6</td>\n",
       "      <td>3.1</td>\n",
       "      <td>1.5</td>\n",
       "      <td>0.2</td>\n",
       "      <td>0</td>\n",
       "    </tr>\n",
       "    <tr>\n",
       "      <th>4</th>\n",
       "      <td>5.0</td>\n",
       "      <td>3.6</td>\n",
       "      <td>1.4</td>\n",
       "      <td>0.2</td>\n",
       "      <td>0</td>\n",
       "    </tr>\n",
       "  </tbody>\n",
       "</table>\n",
       "</div>"
      ],
      "text/plain": [
       "   sepal-length  sepal-width  petal-length  petal-width  target\n",
       "0           5.1          3.5           1.4          0.2       0\n",
       "1           4.9          3.0           1.4          0.2       0\n",
       "2           4.7          3.2           1.3          0.2       0\n",
       "3           4.6          3.1           1.5          0.2       0\n",
       "4           5.0          3.6           1.4          0.2       0"
      ]
     },
     "execution_count": 5,
     "metadata": {},
     "output_type": "execute_result"
    }
   ],
   "source": [
    "dataset[\"target\"] = dataset[\"class\"].astype(\"category\").cat.codes\n",
    "dataset.drop(\"class\", axis=1, inplace=True)\n",
    "dataset.head()"
   ]
  },
  {
   "cell_type": "markdown",
   "id": "c17332f4",
   "metadata": {},
   "source": [
    "Let's then divide the dataset into train and test datasets."
   ]
  },
  {
   "cell_type": "code",
   "execution_count": 6,
   "id": "552edbc9",
   "metadata": {},
   "outputs": [],
   "source": [
    "train, test = model_selection.train_test_split(dataset, stratify=dataset[\"target\"], random_state=42)"
   ]
  },
  {
   "cell_type": "markdown",
   "id": "25cfda77",
   "metadata": {},
   "source": [
    "Now its time to create our firsts experiments using the *run_experiment* method. The method requires the following:\n",
    "\n",
    " - **project_id**: the id of the project we have just created;\n",
    " - **engine**: the Python ML engine to be used to develop the model (sklearn is the only available currently);\n",
    " - **model**: the engine model object initialized with its hyper params;\n",
    " - **metrics**: a dict with engine metrics functions;\n",
    " - **target_col**: the target column on the dataset;\n",
    " - **train_data**: the train dataset;\n",
    " - **test_data**: the test dataset."
   ]
  },
  {
   "cell_type": "markdown",
   "id": "9f533169",
   "metadata": {},
   "source": [
    "We will create two experiments to predict the iris class: **Logistic Regression** model and **Perceptron** model, both will be assessed by their classification accuracy."
   ]
  },
  {
   "cell_type": "code",
   "execution_count": 7,
   "id": "52d53783",
   "metadata": {},
   "outputs": [
    {
     "name": "stdout",
     "output_type": "stream",
     "text": [
      "1\n"
     ]
    }
   ],
   "source": [
    "lr_experiment_id = mlops.run_experiment(\n",
    "    project_id=project_id,\n",
    "    engine='sklearn',\n",
    "    model=linear_model.LogisticRegression(),\n",
    "    metrics=dict(accuracy=metrics.accuracy_score),\n",
    "    target_col='target',\n",
    "    train_data=train,\n",
    "    test_data=test\n",
    ")\n",
    "\n",
    "print(lr_experiment_id)"
   ]
  },
  {
   "cell_type": "code",
   "execution_count": 8,
   "id": "29c7234d",
   "metadata": {},
   "outputs": [
    {
     "name": "stdout",
     "output_type": "stream",
     "text": [
      "2\n"
     ]
    }
   ],
   "source": [
    "nn_experiment_id = mlops.run_experiment(\n",
    "    project_id=project_id,\n",
    "    engine='sklearn',\n",
    "    model=linear_model.Perceptron(),\n",
    "    metrics=dict(accuracy=metrics.accuracy_score),\n",
    "    target_col='target',\n",
    "    train_data=train,\n",
    "    test_data=test\n",
    ")\n",
    "\n",
    "print(nn_experiment_id)"
   ]
  },
  {
   "cell_type": "markdown",
   "id": "dc4d1529",
   "metadata": {},
   "source": [
    "After running the *run_experiment* method, the **api.ifood.mlops** package will submit the request to the pipeline app. You can check out the experiment progress directly on the pipeline [dashboard](http://localhost:8080/) or using the *get_experiment* or *get_experiments* method. Run the cell bellow multiple times until both experiments status are equal to 'finished' then continue."
   ]
  },
  {
   "cell_type": "code",
   "execution_count": 9,
   "id": "8467a173",
   "metadata": {},
   "outputs": [
    {
     "name": "stdout",
     "output_type": "stream",
     "text": [
      "id: 1\n",
      "project_id: 1\n",
      "engine: sklearn\n",
      "hyperparams: b'{\"C\": 1.0, \"class_weight\": null, \"dual\": false, \"fit_intercept\": true, \"intercept_scaling\": 1, \"l1_ratio\": null, \"max_iter\": 100, \"multi_class\": \"auto\", \"n_jobs\": null, \"penalty\": \"l2\", \"random_state\": null, \"solver\": \"lbfgs\", \"tol\": 0.0001, \"verbose\": 0, \"warm_start\": false}'\n",
      "metrics: b'{\"accuracy\": 0.9473684210526315}'\n",
      "status: finished\n",
      "created_at: 2021-04-27 22:19:53\n",
      "updated_at: 2021-04-27 22:21:20\n",
      "\n",
      "id: 2\n",
      "project_id: 1\n",
      "engine: sklearn\n",
      "hyperparams: b'{\"alpha\": 0.0001, \"class_weight\": null, \"early_stopping\": false, \"eta0\": 1.0, \"fit_intercept\": true, \"l1_ratio\": 0.15, \"max_iter\": 1000, \"n_iter_no_change\": 5, \"n_jobs\": null, \"penalty\": null, \"random_state\": 0, \"shuffle\": true, \"tol\": 0.001, \"validation_fraction\": 0.1, \"verbose\": 0, \"warm_start\": false}'\n",
      "metrics: b'{\"accuracy\": 0.6578947368421053}'\n",
      "status: finished\n",
      "created_at: 2021-04-27 22:19:54\n",
      "updated_at: 2021-04-27 22:21:32\n",
      "\n"
     ]
    }
   ],
   "source": [
    "experiments = mlops.get_experiments()\n",
    "\n",
    "for experiment in experiments:\n",
    "    for k, v in experiment.items():\n",
    "        print(f\"{k}: {v}\")\n",
    "    print(\"\")"
   ]
  },
  {
   "cell_type": "markdown",
   "id": "a9a23614",
   "metadata": {},
   "source": [
    "Let's compare them both:"
   ]
  },
  {
   "cell_type": "code",
   "execution_count": 10,
   "id": "e5640a84",
   "metadata": {},
   "outputs": [
    {
     "name": "stdout",
     "output_type": "stream",
     "text": [
      "LR status: finished\n",
      "LR metric: b'{\"accuracy\": 0.9473684210526315}'\n"
     ]
    }
   ],
   "source": [
    "lr_experiment = mlops.get_experiment(experiment_id=lr_experiment_id)\n",
    "print(f\"LR status: {lr_experiment['status']}\")\n",
    "print(f\"LR metric: {lr_experiment['metrics']}\")"
   ]
  },
  {
   "cell_type": "code",
   "execution_count": 11,
   "id": "f3a06c72",
   "metadata": {},
   "outputs": [
    {
     "name": "stdout",
     "output_type": "stream",
     "text": [
      "NN status: finished\n",
      "NN metric: b'{\"accuracy\": 0.6578947368421053}'\n"
     ]
    }
   ],
   "source": [
    "nn_experiment = mlops.get_experiment(experiment_id=nn_experiment_id)\n",
    "print(f\"NN status: {nn_experiment['status']}\")\n",
    "print(f\"NN metric: {nn_experiment['metrics']}\")"
   ]
  },
  {
   "cell_type": "markdown",
   "id": "b4c7f78c",
   "metadata": {
    "jupyter": {
     "outputs_hidden": false
    },
    "pycharm": {
     "name": "#%%\n"
    }
   },
   "source": [
    "Since the **Logistic Regression** accuracy is higher, lets deploy it!"
   ]
  },
  {
   "cell_type": "markdown",
   "id": "bc2b44da",
   "metadata": {},
   "source": [
    "## 3. Deploy"
   ]
  },
  {
   "cell_type": "markdown",
   "id": "f90ab667",
   "metadata": {},
   "source": [
    "To the deploy an experiment, you can use the *deploy_experiment* method."
   ]
  },
  {
   "cell_type": "code",
   "execution_count": 12,
   "id": "5db70365",
   "metadata": {},
   "outputs": [
    {
     "data": {
      "text/plain": [
       "True"
      ]
     },
     "execution_count": 12,
     "metadata": {},
     "output_type": "execute_result"
    }
   ],
   "source": [
    "mlops.deploy_experiment(experiment_id=lr_experiment_id)"
   ]
  },
  {
   "cell_type": "markdown",
   "id": "d6eae4fc",
   "metadata": {},
   "source": [
    "After running the *deploy_experiment* method, the **api.ifood.mlops** package will submit the request to the pipeline app. You can check out the deployment progress directly on the pipeline [dashboard](http://localhost:8080/) or using the *get_experiment* or *get_experiments* method. Run the cell bellow multiple times until both experiments status are equal to 'deployed' then continue."
   ]
  },
  {
   "cell_type": "code",
   "execution_count": 13,
   "id": "d21d8a60",
   "metadata": {},
   "outputs": [
    {
     "name": "stdout",
     "output_type": "stream",
     "text": [
      "LR status: deployed\n"
     ]
    }
   ],
   "source": [
    "lr_experiment = mlops.get_experiment(experiment_id=lr_experiment_id)\n",
    "print(f\"LR status: {lr_experiment['status']}\")"
   ]
  },
  {
   "cell_type": "markdown",
   "id": "5571ad0e",
   "metadata": {},
   "source": [
    "You can check the deployed experiments with the *get_deployments* method."
   ]
  },
  {
   "cell_type": "code",
   "execution_count": 14,
   "id": "a9f43d5c",
   "metadata": {},
   "outputs": [
    {
     "name": "stdout",
     "output_type": "stream",
     "text": [
      "id: 1\n",
      "project_id: 1\n",
      "engine: sklearn\n",
      "hyperparams: b'{\"C\": 1.0, \"class_weight\": null, \"dual\": false, \"fit_intercept\": true, \"intercept_scaling\": 1, \"l1_ratio\": null, \"max_iter\": 100, \"multi_class\": \"auto\", \"n_jobs\": null, \"penalty\": \"l2\", \"random_state\": null, \"solver\": \"lbfgs\", \"tol\": 0.0001, \"verbose\": 0, \"warm_start\": false}'\n",
      "metrics: b'{\"accuracy\": 0.9473684210526315}'\n",
      "status: deployed\n",
      "created_at: 2021-04-27 22:19:53\n",
      "updated_at: 2021-04-27 22:22:58\n",
      "\n"
     ]
    }
   ],
   "source": [
    "deployments = mlops.get_deployments()\n",
    "\n",
    "for deployment in deployments:\n",
    "    for k, v in deployment.items():\n",
    "        print(f\"{k}: {v}\")\n",
    "    print(\"\")"
   ]
  },
  {
   "cell_type": "markdown",
   "id": "b94bc4a8",
   "metadata": {},
   "source": [
    "## 4. Predict"
   ]
  },
  {
   "cell_type": "markdown",
   "id": "040483ff",
   "metadata": {},
   "source": [
    "Let's predict some cases! You can check the serving API docs [here](http://localhost:8000/docs)."
   ]
  },
  {
   "cell_type": "markdown",
   "id": "6841be56",
   "metadata": {},
   "source": [
    " - Iris-setosa:"
   ]
  },
  {
   "cell_type": "code",
   "execution_count": 15,
   "id": "a0596b52",
   "metadata": {},
   "outputs": [],
   "source": [
    "data = dict(model=\"iris\", features={\"sepal-length\": 5.7, \"sepal-width\": 3.8, \"petal-length\": 1.7, \"petal-width\": 0.3})"
   ]
  },
  {
   "cell_type": "code",
   "execution_count": 16,
   "id": "51a34e21",
   "metadata": {},
   "outputs": [
    {
     "name": "stdout",
     "output_type": "stream",
     "text": [
      "{\"id\":1,\"prediction\":0,\"timestamp\":\"2021-04-27T22:23:49+00:00\"}\n"
     ]
    }
   ],
   "source": [
    "try:\n",
    "    response = requests.post(url='http://localhost:8000/predictions/', data=json.dumps(data), headers={'Content-Type': 'application/json', 'x-api-key': 'FfNxK6NF9L'})\n",
    "    response.raise_for_status()\n",
    "except Exception as exc:\n",
    "    raise exc\n",
    "else:\n",
    "    print(response.text) # expecting \"0\" for Iris-setosa"
   ]
  },
  {
   "cell_type": "markdown",
   "id": "543a2a5d",
   "metadata": {},
   "source": [
    " - Iris-versicolor:"
   ]
  },
  {
   "cell_type": "code",
   "execution_count": 17,
   "id": "2702aa64",
   "metadata": {},
   "outputs": [],
   "source": [
    "data = dict(model=\"iris\", features={\"sepal-length\": 5.8, \"sepal-width\": 2.7, \"petal-length\": 4.1, \"petal-width\": 1.0})"
   ]
  },
  {
   "cell_type": "code",
   "execution_count": 18,
   "id": "f7d64d49",
   "metadata": {},
   "outputs": [
    {
     "name": "stdout",
     "output_type": "stream",
     "text": [
      "{\"id\":2,\"prediction\":1,\"timestamp\":\"2021-04-27T22:23:54+00:00\"}\n"
     ]
    }
   ],
   "source": [
    "try:\n",
    "    response = requests.post(url='http://localhost:8000/predictions/', data=json.dumps(data), headers={'Content-Type': 'application/json', 'x-api-key': 'FfNxK6NF9L'})\n",
    "    response.raise_for_status()\n",
    "except Exception as exc:\n",
    "    raise exc\n",
    "else:\n",
    "    print(response.text) # expecting \"1\" for Iris-versicolor"
   ]
  },
  {
   "cell_type": "markdown",
   "id": "1a798cab",
   "metadata": {},
   "source": [
    " - Iris-virginica:"
   ]
  },
  {
   "cell_type": "code",
   "execution_count": 19,
   "id": "ce5cc42b",
   "metadata": {},
   "outputs": [],
   "source": [
    "data = dict(model=\"iris\", features={\"sepal-length\": 7.7, \"sepal-width\": 3.0, \"petal-length\": 6.1, \"petal-width\": 2.3})"
   ]
  },
  {
   "cell_type": "code",
   "execution_count": 20,
   "id": "4d75f97e",
   "metadata": {},
   "outputs": [
    {
     "name": "stdout",
     "output_type": "stream",
     "text": [
      "{\"id\":3,\"prediction\":2,\"timestamp\":\"2021-04-27T22:24:00+00:00\"}\n"
     ]
    }
   ],
   "source": [
    "try:\n",
    "    response = requests.post(url='http://localhost:8000/predictions/', data=json.dumps(data), headers={'Content-Type': 'application/json', 'x-api-key': 'FfNxK6NF9L'})\n",
    "    response.raise_for_status()\n",
    "except Exception as exc:\n",
    "    raise exc\n",
    "else:\n",
    "    print(response.text) # expecting \"2\" for Iris-virginica"
   ]
  },
  {
   "cell_type": "markdown",
   "id": "d90f5385",
   "metadata": {},
   "source": [
    "You can get all the predictions for a project with the *get_predictions* method."
   ]
  },
  {
   "cell_type": "code",
   "execution_count": 21,
   "id": "e1b83546",
   "metadata": {},
   "outputs": [
    {
     "name": "stdout",
     "output_type": "stream",
     "text": [
      "id: 1\n",
      "project_id: 1\n",
      "experiment_id: 1\n",
      "payload: b'0'\n",
      "api_key: FfNxK6NF9L\n",
      "created_at: 2021-04-27 22:23:49\n",
      "updated_at: 2021-04-27 22:23:49\n",
      "\n",
      "id: 2\n",
      "project_id: 1\n",
      "experiment_id: 1\n",
      "payload: b'1'\n",
      "api_key: FfNxK6NF9L\n",
      "created_at: 2021-04-27 22:23:54\n",
      "updated_at: 2021-04-27 22:23:54\n",
      "\n",
      "id: 3\n",
      "project_id: 1\n",
      "experiment_id: 1\n",
      "payload: b'2'\n",
      "api_key: FfNxK6NF9L\n",
      "created_at: 2021-04-27 22:24:00\n",
      "updated_at: 2021-04-27 22:24:00\n",
      "\n"
     ]
    }
   ],
   "source": [
    "predictions = mlops.get_predictions(project_id=project_id)\n",
    "\n",
    "for prediction in predictions:\n",
    "    for k, v in prediction.items():\n",
    "        print(f\"{k}: {v}\")\n",
    "    print(\"\")"
   ]
  },
  {
   "cell_type": "markdown",
   "id": "45aceb30",
   "metadata": {},
   "source": [
    "## 5. Deploy a new model"
   ]
  },
  {
   "cell_type": "markdown",
   "id": "32c19e75",
   "metadata": {},
   "source": [
    "The **Logistic Regression model** is outdated, let's deploy a new **Support Vector Machine** model."
   ]
  },
  {
   "cell_type": "code",
   "execution_count": 22,
   "id": "93f677ab",
   "metadata": {},
   "outputs": [
    {
     "name": "stdout",
     "output_type": "stream",
     "text": [
      "3\n"
     ]
    }
   ],
   "source": [
    "svm_experiment_id = mlops.run_experiment(\n",
    "    project_id=project_id,\n",
    "    engine='sklearn',\n",
    "    model=svm.SVC(),\n",
    "    metrics=dict(accuracy=metrics.accuracy_score),\n",
    "    target_col='target',\n",
    "    train_data=train,\n",
    "    test_data=test\n",
    ")\n",
    "\n",
    "print(svm_experiment_id)"
   ]
  },
  {
   "cell_type": "markdown",
   "id": "4f9d5a51",
   "metadata": {},
   "source": [
    "Run the cell bellow multiple times until both experiments status are equal to 'deployed' then continue."
   ]
  },
  {
   "cell_type": "code",
   "execution_count": 23,
   "id": "62ec103c",
   "metadata": {},
   "outputs": [
    {
     "name": "stdout",
     "output_type": "stream",
     "text": [
      "id: 3\n",
      "project_id: 1\n",
      "engine: sklearn\n",
      "hyperparams: b'{\"C\": 1.0, \"break_ties\": false, \"cache_size\": 200, \"class_weight\": null, \"coef0\": 0.0, \"decision_function_shape\": \"ovr\", \"degree\": 3, \"gamma\": \"scale\", \"kernel\": \"rbf\", \"max_iter\": -1, \"probability\": false, \"random_state\": null, \"shrinking\": true, \"tol\": 0.001, \"verbose\": false}'\n",
      "metrics: b'{\"accuracy\": 0.9210526315789473}'\n",
      "status: finished\n",
      "created_at: 2021-04-27 22:24:11\n",
      "updated_at: 2021-04-27 22:25:00\n"
     ]
    }
   ],
   "source": [
    "experiment = mlops.get_experiment(experiment_id=svm_experiment_id)\n",
    "\n",
    "for k, v in experiment.items():\n",
    "    print(f\"{k}: {v}\")"
   ]
  },
  {
   "cell_type": "markdown",
   "id": "26533b32",
   "metadata": {},
   "source": [
    "Then deploy the model."
   ]
  },
  {
   "cell_type": "code",
   "execution_count": 24,
   "id": "e115dbd5",
   "metadata": {},
   "outputs": [
    {
     "data": {
      "text/plain": [
       "True"
      ]
     },
     "execution_count": 24,
     "metadata": {},
     "output_type": "execute_result"
    }
   ],
   "source": [
    "mlops.deploy_experiment(experiment_id=svm_experiment_id)"
   ]
  },
  {
   "cell_type": "markdown",
   "id": "ba26bba1",
   "metadata": {},
   "source": [
    "As usual, run the cell bellow multiple times until both experiments status are equal to 'deployed' then continue."
   ]
  },
  {
   "cell_type": "code",
   "execution_count": 25,
   "id": "3a697a75",
   "metadata": {},
   "outputs": [
    {
     "name": "stdout",
     "output_type": "stream",
     "text": [
      "SVM status: deployed\n"
     ]
    }
   ],
   "source": [
    "svm_experiment = mlops.get_experiment(experiment_id=svm_experiment_id)\n",
    "print(f\"SVM status: {svm_experiment['status']}\")"
   ]
  },
  {
   "cell_type": "markdown",
   "id": "e68b7e51",
   "metadata": {},
   "source": [
    "Let's get the deployed models again."
   ]
  },
  {
   "cell_type": "code",
   "execution_count": 26,
   "id": "3131ed31",
   "metadata": {},
   "outputs": [
    {
     "name": "stdout",
     "output_type": "stream",
     "text": [
      "id: 3\n",
      "project_id: 1\n",
      "engine: sklearn\n",
      "hyperparams: b'{\"C\": 1.0, \"break_ties\": false, \"cache_size\": 200, \"class_weight\": null, \"coef0\": 0.0, \"decision_function_shape\": \"ovr\", \"degree\": 3, \"gamma\": \"scale\", \"kernel\": \"rbf\", \"max_iter\": -1, \"probability\": false, \"random_state\": null, \"shrinking\": true, \"tol\": 0.001, \"verbose\": false}'\n",
      "metrics: b'{\"accuracy\": 0.9210526315789473}'\n",
      "status: deployed\n",
      "created_at: 2021-04-27 22:24:11\n",
      "updated_at: 2021-04-27 22:26:01\n",
      "\n"
     ]
    }
   ],
   "source": [
    "deployments = mlops.get_deployments()\n",
    "\n",
    "for deployment in deployments:\n",
    "    for k, v in deployment.items():\n",
    "        print(f\"{k}: {v}\")\n",
    "    print(\"\")"
   ]
  },
  {
   "cell_type": "markdown",
   "id": "ae448d24",
   "metadata": {},
   "source": [
    "Nice, then predict some data."
   ]
  },
  {
   "cell_type": "code",
   "execution_count": 27,
   "id": "20613560",
   "metadata": {},
   "outputs": [],
   "source": [
    "data = dict(model=\"iris\", features={\"sepal-length\": 5.7, \"sepal-width\": 3.8, \"petal-length\": 1.7, \"petal-width\": 0.3})"
   ]
  },
  {
   "cell_type": "code",
   "execution_count": 28,
   "id": "1ab103e9",
   "metadata": {},
   "outputs": [
    {
     "name": "stdout",
     "output_type": "stream",
     "text": [
      "{\"id\":4,\"prediction\":0,\"timestamp\":\"2021-04-27T22:26:40+00:00\"}\n"
     ]
    }
   ],
   "source": [
    "try:\n",
    "    response = requests.post(url='http://localhost:8000/predictions/', data=json.dumps(data), headers={'Content-Type': 'application/json', 'x-api-key': 'FfNxK6NF9L'})\n",
    "    response.raise_for_status()\n",
    "except Exception as exc:\n",
    "    raise exc\n",
    "else:\n",
    "    print(response.text) # expecting \"0\" for Iris-setosa"
   ]
  },
  {
   "cell_type": "markdown",
   "id": "78833951",
   "metadata": {},
   "source": [
    "To finish, let's get all predictions again."
   ]
  },
  {
   "cell_type": "code",
   "execution_count": 29,
   "id": "ee252406",
   "metadata": {},
   "outputs": [
    {
     "name": "stdout",
     "output_type": "stream",
     "text": [
      "id: 1\n",
      "project_id: 1\n",
      "experiment_id: 1\n",
      "payload: b'0'\n",
      "api_key: FfNxK6NF9L\n",
      "created_at: 2021-04-27 22:23:49\n",
      "updated_at: 2021-04-27 22:23:49\n",
      "\n",
      "id: 2\n",
      "project_id: 1\n",
      "experiment_id: 1\n",
      "payload: b'1'\n",
      "api_key: FfNxK6NF9L\n",
      "created_at: 2021-04-27 22:23:54\n",
      "updated_at: 2021-04-27 22:23:54\n",
      "\n",
      "id: 3\n",
      "project_id: 1\n",
      "experiment_id: 1\n",
      "payload: b'2'\n",
      "api_key: FfNxK6NF9L\n",
      "created_at: 2021-04-27 22:24:00\n",
      "updated_at: 2021-04-27 22:24:00\n",
      "\n",
      "id: 4\n",
      "project_id: 1\n",
      "experiment_id: 3\n",
      "payload: b'0'\n",
      "api_key: FfNxK6NF9L\n",
      "created_at: 2021-04-27 22:26:40\n",
      "updated_at: 2021-04-27 22:26:40\n",
      "\n"
     ]
    }
   ],
   "source": [
    "predictions = mlops.get_predictions(project_id=project_id)\n",
    "\n",
    "for prediction in predictions:\n",
    "    for k, v in prediction.items():\n",
    "        print(f\"{k}: {v}\")\n",
    "    print(\"\")"
   ]
  }
 ],
 "metadata": {
  "kernelspec": {
   "display_name": "Python 3",
   "language": "python",
   "name": "python3"
  },
  "language_info": {
   "codemirror_mode": {
    "name": "ipython",
    "version": 3
   },
   "file_extension": ".py",
   "mimetype": "text/x-python",
   "name": "python",
   "nbconvert_exporter": "python",
   "pygments_lexer": "ipython3",
   "version": "3.7.3"
  }
 },
 "nbformat": 4,
 "nbformat_minor": 5
}
