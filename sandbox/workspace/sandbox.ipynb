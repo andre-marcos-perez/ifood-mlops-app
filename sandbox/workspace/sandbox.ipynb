{
 "cells": [
  {
   "cell_type": "code",
   "execution_count": null,
   "id": "0a283e8c",
   "metadata": {},
   "outputs": [],
   "source": [
    "from sklearn import *\n",
    "\n",
    "from api.ifood import mlops"
   ]
  },
  {
   "cell_type": "code",
   "execution_count": null,
   "id": "7dcae8a7",
   "metadata": {},
   "outputs": [],
   "source": [
    "project_id = mlops.create_project(name='credit')\n",
    "print(project_id)"
   ]
  },
  {
   "cell_type": "code",
   "execution_count": null,
   "id": "840738f6",
   "metadata": {},
   "outputs": [],
   "source": [
    "experiment_id = mlops.run_experiment(project_id=project_id, engine='sklearn', model=linear_model.LogisticRegression())\n",
    "print(experiment_id)"
   ]
  },
  {
   "cell_type": "code",
   "execution_count": null,
   "id": "30608803",
   "metadata": {},
   "outputs": [],
   "source": [
    "experiment = mlops.get_experiment(experiment_id=experiment_id)[0]\n",
    "print(experiment['status'])"
   ]
  }
 ],
 "metadata": {
  "kernelspec": {
   "display_name": "Python 3",
   "language": "python",
   "name": "python3"
  },
  "language_info": {
   "codemirror_mode": {
    "name": "ipython",
    "version": 3
   },
   "file_extension": ".py",
   "mimetype": "text/x-python",
   "name": "python",
   "nbconvert_exporter": "python",
   "pygments_lexer": "ipython3",
   "version": "3.7.3"
  }
 },
 "nbformat": 4,
 "nbformat_minor": 5
}
