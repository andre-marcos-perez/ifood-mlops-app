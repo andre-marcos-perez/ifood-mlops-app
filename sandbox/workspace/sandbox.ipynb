{
 "cells": [
  {
   "cell_type": "code",
   "execution_count": null,
   "id": "6d16ddd1",
   "metadata": {},
   "outputs": [],
   "source": [
    "import pandas as pd\n",
    "from sklearn import *\n",
    "\n",
    "from api.ifood import mlops"
   ]
  },
  {
   "cell_type": "markdown",
   "id": "fd2103c1",
   "metadata": {},
   "source": [
    "Create project"
   ]
  },
  {
   "cell_type": "code",
   "execution_count": null,
   "id": "61767109",
   "metadata": {},
   "outputs": [],
   "source": [
    "project_id = mlops.create_project(name='iris')\n",
    "print(project_id)"
   ]
  },
  {
   "cell_type": "markdown",
   "id": "90ec4296",
   "metadata": {},
   "source": [
    "Load data"
   ]
  },
  {
   "cell_type": "code",
   "execution_count": null,
   "id": "1c3dcb75",
   "metadata": {},
   "outputs": [],
   "source": [
    "dataset = pd.read_csv('./feature-store/iris.csv')"
   ]
  },
  {
   "cell_type": "markdown",
   "id": "032667d0",
   "metadata": {},
   "source": [
    "Wrangle data"
   ]
  },
  {
   "cell_type": "code",
   "execution_count": null,
   "id": "08052927",
   "metadata": {},
   "outputs": [],
   "source": [
    "dataset[\"target\"] = dataset[\"class\"].astype(\"category\").cat.codes\n",
    "dataset.drop(\"class\", axis=1, inplace=True)\n",
    "dataset.head()"
   ]
  },
  {
   "cell_type": "code",
   "execution_count": null,
   "id": "539c793f",
   "metadata": {},
   "outputs": [],
   "source": [
    "train, test = model_selection.train_test_split(dataset, stratify=dataset[\"target\"], random_state=42)"
   ]
  },
  {
   "cell_type": "markdown",
   "id": "181e3e33",
   "metadata": {},
   "source": [
    "Run experiment"
   ]
  },
  {
   "cell_type": "code",
   "execution_count": null,
   "id": "a059c01f",
   "metadata": {},
   "outputs": [],
   "source": [
    "experiment_id = mlops.run_experiment(\n",
    "    project_id=project_id,\n",
    "    engine='sklearn',\n",
    "    model=linear_model.LogisticRegression(max_iter=1000),\n",
    "    metrics=dict(accuracy=metrics.accuracy_score),\n",
    "    target_col='target',\n",
    "    train_data=train,\n",
    "    test_data=test\n",
    ")\n",
    "\n",
    "print(experiment_id)"
   ]
  },
  {
   "cell_type": "code",
   "execution_count": null,
   "id": "306d4e98",
   "metadata": {},
   "outputs": [],
   "source": [
    "experiment = mlops.get_experiment(experiment_id=experiment_id)\n",
    "print(experiment['status'])"
   ]
  },
  {
   "cell_type": "code",
   "execution_count": null,
   "id": "630a9cc2",
   "metadata": {
    "collapsed": false,
    "jupyter": {
     "outputs_hidden": false
    },
    "pycharm": {
     "name": "#%%\n"
    }
   },
   "outputs": [],
   "source": [
    "experiment = mlops.get_experiment(experiment_id=experiment_id)\n",
    "print(experiment['metrics'])"
   ]
  }
 ],
 "metadata": {
  "kernelspec": {
   "display_name": "Python 3",
   "language": "python",
   "name": "python3"
  },
  "language_info": {
   "codemirror_mode": {
    "name": "ipython",
    "version": 3
   },
   "file_extension": ".py",
   "mimetype": "text/x-python",
   "name": "python",
   "nbconvert_exporter": "python",
   "pygments_lexer": "ipython3",
   "version": "3.7.3"
  }
 },
 "nbformat": 4,
 "nbformat_minor": 5
}