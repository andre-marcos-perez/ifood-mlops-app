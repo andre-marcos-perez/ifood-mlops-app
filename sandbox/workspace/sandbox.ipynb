{
 "cells": [
  {
   "cell_type": "code",
   "execution_count": 1,
   "id": "ab3b93e2",
   "metadata": {},
   "outputs": [],
   "source": [
    "from sklearn import *\n",
    "\n",
    "from api.ifood import mlops"
   ]
  },
  {
   "cell_type": "code",
   "execution_count": 2,
   "id": "6310968d",
   "metadata": {},
   "outputs": [],
   "source": [
    "pid = mlops.create_project(name='credit')"
   ]
  },
  {
   "cell_type": "code",
   "execution_count": 3,
   "id": "11643477",
   "metadata": {},
   "outputs": [
    {
     "name": "stdout",
     "output_type": "stream",
     "text": [
      "1\n"
     ]
    }
   ],
   "source": [
    "eid = mlops.run_experiment(project_id=pid, engine='scikit', model=linear_model.LogisticRegression())\n",
    "print(eid)"
   ]
  },
  {
   "cell_type": "code",
   "execution_count": 10,
   "id": "3cc487f0",
   "metadata": {},
   "outputs": [
    {
     "name": "stdout",
     "output_type": "stream",
     "text": [
      "finished\n"
     ]
    }
   ],
   "source": [
    "experiment = mlops.get_experiment(experiment_id=1)[0]\n",
    "print(experiment['status'])"
   ]
  }
 ],
 "metadata": {
  "kernelspec": {
   "display_name": "Python 3",
   "language": "python",
   "name": "python3"
  },
  "language_info": {
   "codemirror_mode": {
    "name": "ipython",
    "version": 3
   },
   "file_extension": ".py",
   "mimetype": "text/x-python",
   "name": "python",
   "nbconvert_exporter": "python",
   "pygments_lexer": "ipython3",
   "version": "3.7.3"
  }
 },
 "nbformat": 4,
 "nbformat_minor": 5
}
